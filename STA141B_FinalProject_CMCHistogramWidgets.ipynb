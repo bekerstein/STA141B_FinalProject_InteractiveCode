{
 "cells": [
  {
   "cell_type": "markdown",
   "id": "4c4a5fd4",
   "metadata": {},
   "source": [
    "# STA 141B Final Project, Magic the Gathering\n",
    "## CMC Interactive Histogram Widgets"
   ]
  },
  {
   "cell_type": "code",
   "execution_count": 1,
   "id": "23790728",
   "metadata": {},
   "outputs": [],
   "source": [
    "import pandas as pd\n",
    "import json\n",
    "import numpy as np\n",
    "import palettable\n",
    "from plotnine import *\n",
    "from IPython.display import display\n",
    "from ipywidgets import interact, interactive, fixed, interact_manual\n",
    "import ipywidgets as widgets\n",
    "from ipywidgets.embed import embed_minimal_html\n",
    "\n",
    "import warnings\n",
    "warnings.filterwarnings(\"ignore\")"
   ]
  },
  {
   "cell_type": "code",
   "execution_count": 2,
   "id": "b1b38947",
   "metadata": {},
   "outputs": [],
   "source": [
    "whiteData = pd.read_csv(\"magicWhite.csv\")\n",
    "blueData = pd.read_csv(\"magicBlue.csv\")\n",
    "blackData = pd.read_csv(\"magicBlack.csv\")\n",
    "redData = pd.read_csv(\"magicRed.csv\")\n",
    "greenData = pd.read_csv(\"magicGreen.csv\")\n",
    "\n",
    "newWhite = pd.read_csv(\"onlyWhite.csv\")\n",
    "newBlue = pd.read_csv(\"onlyBlue.csv\")\n",
    "newBlack = pd.read_csv(\"onlyBlack.csv\")\n",
    "newRed = pd.read_csv(\"onlyRed.csv\")\n",
    "newGreen = pd.read_csv(\"onlyGreen.csv\")"
   ]
  },
  {
   "cell_type": "markdown",
   "id": "9f75fc15",
   "metadata": {},
   "source": [
    "### CMC Histogram Widgets"
   ]
  },
  {
   "cell_type": "code",
   "execution_count": 3,
   "id": "7644d1d9",
   "metadata": {},
   "outputs": [
    {
     "data": {
      "application/vnd.jupyter.widget-view+json": {
       "model_id": "cad4f05799364475a37c6be55d047d8d",
       "version_major": 2,
       "version_minor": 0
      },
      "text/plain": [
       "interactive(children=(SelectionSlider(continuous_update=False, description='x', options=('White CMC', 'Blue CM…"
      ]
     },
     "metadata": {},
     "output_type": "display_data"
    },
    {
     "data": {
      "application/vnd.jupyter.widget-view+json": {
       "model_id": "4c4459550420491c9abed08a9d2372a3",
       "version_major": 2,
       "version_minor": 0
      },
      "text/plain": [
       "interactive(children=(SelectionSlider(continuous_update=False, description='x', options=('White Only', 'Blue O…"
      ]
     },
     "metadata": {},
     "output_type": "display_data"
    },
    {
     "data": {
      "text/plain": [
       "<function __main__.updateO(x)>"
      ]
     },
     "execution_count": 3,
     "metadata": {},
     "output_type": "execute_result"
    }
   ],
   "source": [
    "def animateHistC(data,palcol,title):\n",
    "    p = (\n",
    "        ggplot(data, aes(x='CMC',y=after_stat('count'),fill='Type_x'))\n",
    "        + scale_fill_brewer(type='seq', palette=palcol) # change the fill colour\n",
    "        #+ scale_fill_manual(values=[\"#F9CEC8\", \"#F5AEA3\", \"#F18E7E\", \"#ED6D5A\"])\n",
    "        #+ scale_color_brewer(type='seq', palette=1)\n",
    "        + geom_histogram(binwidth=1)\n",
    "        + xlim(0,15)\n",
    "        + ylim(0,650)\n",
    "        #+ geom_histogram(binwidth=0.15,color=\"#FDEFED\")\n",
    "        + theme_bw()\n",
    "        + ggtitle(title)\n",
    "    )\n",
    "    return p\n",
    "\n",
    "animateListE = [\n",
    "    [whiteData,6,\"White CMC\"],\n",
    "    [blueData,1,\"Blue CMC\"],\n",
    "    [blackData,12,\"Black CMC\"],\n",
    "    [redData,14,\"Red CMC\"],\n",
    "    [greenData,5,\"Green CMC\"]\n",
    "]\n",
    "\n",
    "animateListO = [\n",
    "    [newWhite,6,\"White Only CMC\"],\n",
    "    [newBlue,1,\"Blue Only CMC\"],\n",
    "    [newBlack,12,\"Black Only CMC\"],\n",
    "    [newRed,14,\"Red Only CMC\"],\n",
    "    [newGreen,5,\"Green Only CMC\"]\n",
    "]\n",
    "\n",
    "plotsE = {tup[2]:animateHistC(tup[0],tup[1],tup[2]) for tup in animateListE}\n",
    "plotsO = {tup[2]:animateHistC(tup[0],tup[1],tup[2]) for tup in animateListO}\n",
    "\n",
    "select_sliderEC = widgets.SelectionSlider(\n",
    "    options=['White CMC', 'Blue CMC', \n",
    "             'Black CMC', 'Red CMC','Green CMC'],\n",
    "    value='White CMC',\n",
    "    disabled=False,\n",
    "    continuous_update=False,\n",
    "    orientation='horizontal',\n",
    "    readout=True\n",
    ")\n",
    "\n",
    "select_sliderOC = widgets.SelectionSlider(\n",
    "    options=['White Only', 'Blue Only', \n",
    "             'Black Only', 'Red Only','Green Only'],\n",
    "    value='White Only',\n",
    "    disabled=False,\n",
    "    continuous_update=False,\n",
    "    orientation='horizontal',\n",
    "    readout=True\n",
    ")\n",
    "\n",
    "def updateE(x):\n",
    "    display(plotsE[x])\n",
    "    \n",
    "#display(select_slider])\n",
    "interact(updateE,x=select_sliderEC)\n",
    "\n",
    "def updateO(x):\n",
    "    display(plotsO[x + \" CMC\"])\n",
    "    \n",
    "#display(select_slider])\n",
    "interact(updateO,x=select_sliderOC)"
   ]
  }
 ],
 "metadata": {
  "hide_input": false,
  "kernelspec": {
   "display_name": "Python 3 (ipykernel)",
   "language": "python",
   "name": "python3"
  },
  "language_info": {
   "codemirror_mode": {
    "name": "ipython",
    "version": 3
   },
   "file_extension": ".py",
   "mimetype": "text/x-python",
   "name": "python",
   "nbconvert_exporter": "python",
   "pygments_lexer": "ipython3",
   "version": "3.9.18"
  }
 },
 "nbformat": 4,
 "nbformat_minor": 5
}
